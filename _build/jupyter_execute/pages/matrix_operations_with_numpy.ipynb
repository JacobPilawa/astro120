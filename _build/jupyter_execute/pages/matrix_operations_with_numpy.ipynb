{
 "cells": [
  {
   "cell_type": "markdown",
   "metadata": {},
   "source": [
    "# Matrix Operations with Numpy"
   ]
  },
  {
   "cell_type": "markdown",
   "metadata": {},
   "source": [
    "# Base Python makes it tough to deal with matrices. Numpy is designed to deal with matrices!"
   ]
  },
  {
   "cell_type": "code",
   "execution_count": 1,
   "metadata": {},
   "outputs": [],
   "source": [
    "import numpy as np"
   ]
  },
  {
   "cell_type": "markdown",
   "metadata": {},
   "source": [
    "Looking at a sample matrix."
   ]
  },
  {
   "cell_type": "markdown",
   "metadata": {},
   "source": [
    "# A sample matrix and accessing elements"
   ]
  },
  {
   "cell_type": "code",
   "execution_count": 2,
   "metadata": {},
   "outputs": [
    {
     "name": "stdout",
     "output_type": "stream",
     "text": [
      "[[-2  3  1]\n",
      " [ 0  9  2]\n",
      " [ 3 -1 -1]]\n",
      "(3, 3)\n"
     ]
    }
   ],
   "source": [
    "matrix = np.array([[-2, 3, 1],\n",
    "                   [0,  9, 2],\n",
    "                   [3, -1, -1]])\n",
    "print(matrix)\n",
    "print(matrix.shape)"
   ]
  },
  {
   "cell_type": "markdown",
   "metadata": {},
   "source": [
    "### Each element of the matrix is specificed by a row and column (zero-indexed). We can access each element with **slicing**, which looks like this."
   ]
  },
  {
   "cell_type": "code",
   "execution_count": 3,
   "metadata": {},
   "outputs": [
    {
     "name": "stdout",
     "output_type": "stream",
     "text": [
      "0\n"
     ]
    }
   ],
   "source": [
    "row    = 1\n",
    "column = 0\n",
    "\n",
    "print(matrix[row,column])"
   ]
  },
  {
   "cell_type": "markdown",
   "metadata": {},
   "source": [
    "### I can get entire rows or entire columns with the colon operator, which looks like this:"
   ]
  },
  {
   "cell_type": "code",
   "execution_count": 4,
   "metadata": {},
   "outputs": [
    {
     "name": "stdout",
     "output_type": "stream",
     "text": [
      "[-2  0  3]\n"
     ]
    }
   ],
   "source": [
    "print(matrix[:,column])"
   ]
  },
  {
   "cell_type": "code",
   "execution_count": 5,
   "metadata": {},
   "outputs": [
    {
     "name": "stdout",
     "output_type": "stream",
     "text": [
      "[-2  0]\n"
     ]
    }
   ],
   "source": [
    "print(matrix[0:2,column]) # note that the slicing is NOT inclusive!"
   ]
  },
  {
   "cell_type": "markdown",
   "metadata": {},
   "source": [
    "# Operations"
   ]
  },
  {
   "cell_type": "markdown",
   "metadata": {},
   "source": [
    "### Matrix Multiplication (np.matmul(), or the @ operator)"
   ]
  },
  {
   "cell_type": "code",
   "execution_count": 6,
   "metadata": {},
   "outputs": [
    {
     "name": "stdout",
     "output_type": "stream",
     "text": [
      "[[0.14249597 0.07878605 0.94982515]\n",
      " [0.22226144 0.37718654 0.49596761]\n",
      " [0.81734986 0.29249554 0.08123596]]\n"
     ]
    }
   ],
   "source": [
    "x = np.array([[1,0,0],\n",
    "              [0,0,0],\n",
    "              [0,0,0]])\n",
    "\n",
    "y = np.random.rand(3,3)\n",
    "print(y)"
   ]
  },
  {
   "cell_type": "code",
   "execution_count": 7,
   "metadata": {},
   "outputs": [
    {
     "name": "stdout",
     "output_type": "stream",
     "text": [
      "[[0.14249597 0.         0.        ]\n",
      " [0.22226144 0.         0.        ]\n",
      " [0.81734986 0.         0.        ]]\n",
      " \n",
      "[[0.14249597 0.         0.        ]\n",
      " [0.22226144 0.         0.        ]\n",
      " [0.81734986 0.         0.        ]]\n"
     ]
    }
   ],
   "source": [
    "print(y @ x)\n",
    "print(' ')\n",
    "print(np.matmul(y,x))"
   ]
  },
  {
   "cell_type": "markdown",
   "metadata": {},
   "source": [
    "### Inverses"
   ]
  },
  {
   "cell_type": "code",
   "execution_count": 8,
   "metadata": {},
   "outputs": [],
   "source": [
    "array = np.random.rand(3,3)\n",
    "array_inverse = np.linalg.inv(array)"
   ]
  },
  {
   "cell_type": "code",
   "execution_count": 9,
   "metadata": {},
   "outputs": [
    {
     "name": "stdout",
     "output_type": "stream",
     "text": [
      "[[0.18845774 0.47489393 0.06798435]\n",
      " [0.71992277 0.70571139 0.70494174]\n",
      " [0.03339593 0.17457315 0.08358133]]\n",
      "\n",
      "[[  2.84423372   1.23499578 -12.7296779 ]\n",
      " [  1.62585364  -0.59837357   3.72434718]\n",
      " [ -4.5323065    0.75634259   9.27178841]]\n",
      "\n",
      "[[ 1.00000000e+00  5.82187853e-18  5.67395671e-17]\n",
      " [ 2.89179408e-16  1.00000000e+00 -9.19840824e-16]\n",
      " [ 1.25907567e-16  1.76515617e-17  1.00000000e+00]]\n"
     ]
    }
   ],
   "source": [
    "print(array)\n",
    "print('')\n",
    "print(array_inverse)\n",
    "print('')\n",
    "print(array @ array_inverse)"
   ]
  },
  {
   "cell_type": "markdown",
   "metadata": {},
   "source": [
    "### Tranposing"
   ]
  },
  {
   "cell_type": "code",
   "execution_count": 10,
   "metadata": {},
   "outputs": [
    {
     "name": "stdout",
     "output_type": "stream",
     "text": [
      "[[1 2 3]\n",
      " [4 5 6]]\n",
      "\n",
      "(2, 3)\n",
      "\n",
      "[[1 4]\n",
      " [2 5]\n",
      " [3 6]]\n",
      "\n",
      "(3, 2)\n"
     ]
    }
   ],
   "source": [
    "x = np.array([[1,2,3],\n",
    "             [4,5,6]])\n",
    "\n",
    "print(x)\n",
    "print('')\n",
    "print(x.shape)\n",
    "print('')\n",
    "x_transpose = x.T # or np.tranpose()\n",
    "print(x_transpose)\n",
    "print('')\n",
    "print(x_transpose.shape)"
   ]
  },
  {
   "cell_type": "code",
   "execution_count": 11,
   "metadata": {},
   "outputs": [
    {
     "data": {
      "text/plain": [
       "array([[14, 32],\n",
       "       [32, 77]])"
      ]
     },
     "execution_count": 11,
     "metadata": {},
     "output_type": "execute_result"
    }
   ],
   "source": [
    "x @ x_transpose"
   ]
  },
  {
   "cell_type": "code",
   "execution_count": 12,
   "metadata": {},
   "outputs": [
    {
     "ename": "ValueError",
     "evalue": "matmul: Input operand 1 has a mismatch in its core dimension 0, with gufunc signature (n?,k),(k,m?)->(n?,m?) (size 2 is different from 3)",
     "output_type": "error",
     "traceback": [
      "\u001b[0;31m---------------------------------------------------------------------------\u001b[0m",
      "\u001b[0;31mValueError\u001b[0m                                Traceback (most recent call last)",
      "\u001b[0;32m/var/folders/8b/kdzzptnn501_n9y8q82g0c1w0000gn/T/ipykernel_6869/2542721134.py\u001b[0m in \u001b[0;36m<module>\u001b[0;34m\u001b[0m\n\u001b[0;32m----> 1\u001b[0;31m \u001b[0mx\u001b[0m \u001b[0;34m@\u001b[0m \u001b[0mx\u001b[0m\u001b[0;34m\u001b[0m\u001b[0;34m\u001b[0m\u001b[0m\n\u001b[0m",
      "\u001b[0;31mValueError\u001b[0m: matmul: Input operand 1 has a mismatch in its core dimension 0, with gufunc signature (n?,k),(k,m?)->(n?,m?) (size 2 is different from 3)"
     ]
    }
   ],
   "source": [
    "x @ x"
   ]
  },
  {
   "cell_type": "markdown",
   "metadata": {},
   "source": [
    "Other useful functions that I use often:\n",
    "\n",
    "* np.zeros()\n",
    "* np.ones()\n",
    "* np.hstack() -- stacks arrays columnwise\n",
    "* np.vstack() -- stack arrays rowwise\n",
    "* np.save(), np.load() -- saves and loads .npy files \n",
    "* np.genfromtxt(), np.loadtxt(), np.savetxt()\n",
    "* np.random.uniform()\n",
    "* np.random.normal()\n",
    "* "
   ]
  },
  {
   "cell_type": "code",
   "execution_count": null,
   "metadata": {},
   "outputs": [],
   "source": []
  }
 ],
 "metadata": {
  "kernelspec": {
   "display_name": "Python 3 (ipykernel)",
   "language": "python",
   "name": "python3"
  },
  "language_info": {
   "codemirror_mode": {
    "name": "ipython",
    "version": 3
   },
   "file_extension": ".py",
   "mimetype": "text/x-python",
   "name": "python",
   "nbconvert_exporter": "python",
   "pygments_lexer": "ipython3",
   "version": "3.7.12"
  }
 },
 "nbformat": 4,
 "nbformat_minor": 4
}